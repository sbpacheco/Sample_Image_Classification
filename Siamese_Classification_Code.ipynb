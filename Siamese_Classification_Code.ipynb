{
 "cells": [
  {
   "cell_type": "code",
   "execution_count": 139,
   "metadata": {},
   "outputs": [],
   "source": [
    "import random\n",
    "import numpy as np\n",
    "import tensorflow as tf\n",
    "import matplotlib.pyplot as plt\n",
    "import os\n",
    "import cv2\n",
    "\n",
    "from tensorflow import keras\n",
    "from tensorflow.keras import layers\n",
    "from tensorflow.keras.applications import VGG16\n",
    "from tensorflow.keras.models import Model\n",
    "from tensorflow.keras.layers import Input\n",
    "from tensorflow.keras.layers import Conv2D\n",
    "from tensorflow.keras.layers import Dense\n",
    "from tensorflow.keras.layers import Dropout\n",
    "from tensorflow.keras.layers import GlobalAveragePooling2D\n",
    "from tensorflow.keras.layers import MaxPooling2D\n",
    "from tensorflow.keras.applications import Xception\n",
    "import tensorflow.keras.backend as K\n",
    "from sklearn.model_selection import train_test_split\n",
    "from tensorflow.keras.layers import Lambda\n",
    "from tensorflow.keras import preprocessing\n",
    "from tensorflow.keras.preprocessing import image_dataset_from_directory"
   ]
  },
  {
   "cell_type": "code",
   "execution_count": 263,
   "metadata": {},
   "outputs": [],
   "source": [
    "#The following code is an attempt to use a siamese neural network with transfer learning to classify if an image is a faulty screw\n",
    "#Images of screws are located in two folders, one labeled as 'good' and another as 'not-good', meaning faulty screws.\n",
    "#There are 50 'not-good' screws and 250 'good'.\n",
    "\n",
    "#Augment the images in the \"not-good\" folder by flipping each image up, left, and then up and left. Giving 200 total 'not-good' images. \n",
    "\n",
    "path = 'screws/train/not-good/'\n",
    "\n",
    "for img_name in os.listdir(path):\n",
    "    \n",
    "#Im using a mac, which creates these hidden copies of files starting with a ., so this if statement just avoids them\n",
    "    if img_name[0] != '.':\n",
    "        \n",
    "#read each file name and flips image up, then saves new image\n",
    "        img = cv2.imread(path + img_name)\n",
    "        img_name = img_name[:-4]\n",
    "\n",
    "        img_flip_ud = cv2.flip(img, 0)\n",
    "        cv2.imwrite(path + img_name + 'up.png', img_flip_ud)\n",
    "       \n",
    "        #flips image left to right\n",
    "        img_flip_lr = cv2.flip(img, 1)\n",
    "        cv2.imwrite(path + img_name + 'lr.png', img_flip_lr)\n",
    "       \n",
    "\n",
    "        #flips image up and down and left to right\n",
    "        img_flip_ud_lr = cv2.flip(img, -1)\n",
    "        cv2.imwrite(path + img_name + 'udlr.png', img_flip_ud_lr)\n",
    "        \n",
    "#this creates 200 total images in the 'not-good class'\n",
    "\n",
    "#To create 50 additional images to match the good class, the original 50 images are rotate 90 degrees\n",
    "for img_name in os.listdir(path):\n",
    "    if ((img_name[-5] != 'p' and img_name[-5] != 'r') and (img_name[0] != '.')):\n",
    "        img = cv2.imread(path + img_name)\n",
    "        img_rotate = cv2.rotate(img, cv2.ROTATE_90_CLOCKWISE)\n",
    "        img_name = img_name[:-4]\n",
    "        cv2.imwrite(path + img_name + 'rotate.png', img_rotate)\n",
    "        \n",
    "        \n",
    "        \n",
    "        \n",
    "        \n",
    "        "
   ]
  },
  {
   "cell_type": "code",
   "execution_count": 306,
   "metadata": {},
   "outputs": [],
   "source": [
    "#Set Parameters\n",
    "epochs = 30\n",
    "batch_size = 16\n",
    "margin = 1"
   ]
  },
  {
   "cell_type": "code",
   "execution_count": 265,
   "metadata": {},
   "outputs": [],
   "source": [
    "Image_Folder = \"screws/train\"\n",
    "Class = ['good', 'not-good']"
   ]
  },
  {
   "cell_type": "code",
   "execution_count": 289,
   "metadata": {},
   "outputs": [
    {
     "name": "stdout",
     "output_type": "stream",
     "text": [
      "Loading Images\n"
     ]
    }
   ],
   "source": [
    "#Loading Images into a list for training\n",
    "\n",
    "training_data = []\n",
    "print(\"Loading Images\")\n",
    "IMG_SIZE = 224\n",
    "def create_training_data(): \n",
    "    for class_name in Class:\n",
    "        path = os.path.join(Image_Folder, class_name)\n",
    "\n",
    "#converts class names into numbers\n",
    "        class_num = Class.index(class_name)\n",
    "    \n",
    "        for img in os.listdir(path):\n",
    "            try:\n",
    "#Resizes image to 224 x224 from 1024 x 1024\n",
    "                img_array = cv2.imread(os.path.join(path, img), cv2.IMREAD_GRAYSCALE)\n",
    "                new_array = cv2.resize(img_array, (IMG_SIZE, IMG_SIZE))\n",
    "                training_data.append([new_array, class_num])\n",
    "            except Exception as e:\n",
    "                pass\n",
    "#Stores all images and their classes in training data\n",
    "create_training_data()"
   ]
  },
  {
   "cell_type": "code",
   "execution_count": 290,
   "metadata": {},
   "outputs": [],
   "source": [
    "#shuffles all the data because currently its in order they are stored in by class\n",
    "import random\n",
    "random.shuffle(training_data)"
   ]
  },
  {
   "cell_type": "code",
   "execution_count": 291,
   "metadata": {},
   "outputs": [],
   "source": [
    "#seperate data and labels\n",
    "\n",
    "X = []\n",
    "y = []\n",
    "\n",
    "for features,label in training_data:\n",
    "    X.append(features)\n",
    "    y.append(label)\n"
   ]
  },
  {
   "cell_type": "code",
   "execution_count": 292,
   "metadata": {},
   "outputs": [],
   "source": [
    "#normalizes data to 0-1 by dividing by highest pixel number\n",
    "X = [i / 255.0 for i in X]\n",
    "\n",
    "X = np.asarray(X)\n",
    "y = np.asarray(y)\n",
    "\n"
   ]
  },
  {
   "cell_type": "code",
   "execution_count": 319,
   "metadata": {},
   "outputs": [
    {
     "name": "stdout",
     "output_type": "stream",
     "text": [
      "Seperating data into train, test, validation sets\n"
     ]
    }
   ],
   "source": [
    "print(\"Seperating data into train, test, validation sets\" )\n",
    "\n",
    "x_train_val, x_test, y_train_val, y_test = train_test_split(X, y, test_size=0.15, random_state=14)"
   ]
  },
  {
   "cell_type": "code",
   "execution_count": 320,
   "metadata": {},
   "outputs": [],
   "source": [
    "# Change the data type to a floating point format\n",
    "x_train_val = x_train_val.astype(\"float32\")\n",
    "x_test = x_test.astype(\"float32\")"
   ]
  },
  {
   "cell_type": "code",
   "execution_count": 321,
   "metadata": {},
   "outputs": [],
   "source": [
    "\n",
    "#70% train, 15% val, 15% test\n",
    "x_train, x_val = x_train_val[:350], x_train_val[350:]\n",
    "y_train, y_val = y_train_val[:350], y_train_val[350:]\n",
    "del x_train_val, y_train_val"
   ]
  },
  {
   "cell_type": "code",
   "execution_count": 322,
   "metadata": {},
   "outputs": [
    {
     "name": "stdout",
     "output_type": "stream",
     "text": [
      "Making image pairs\n"
     ]
    }
   ],
   "source": [
    "#Code for making image pairs and the basic underlying structure of the Siamese neural network from Keras Siamese neural network guide. \n",
    "#https://keras.io/examples/vision/siamese_contrastive/\n",
    "\n",
    "print(\"Making image pairs\" )\n",
    "def make_pairs(x, y):\n",
    "\n",
    "    num_classes = max(y) + 1\n",
    "    digit_indices = [np.where(y == i)[0] for i in range(num_classes)]\n",
    "\n",
    "    pairs = []\n",
    "    labels = []\n",
    "\n",
    "    for idx1 in range(len(x)):\n",
    "        # add a matching example\n",
    "        x1 = x[idx1]\n",
    "        label1 = y[idx1]\n",
    "        idx2 = random.choice(digit_indices[label1])\n",
    "        x2 = x[idx2]\n",
    "\n",
    "        pairs += [[x1, x2]]\n",
    "        labels += [1]\n",
    "\n",
    "        # add a non-matching example\n",
    "        label2 = random.randint(0, num_classes - 1)\n",
    "        while label2 == label1:\n",
    "            label2 = random.randint(0, num_classes - 1)\n",
    "\n",
    "        idx2 = random.choice(digit_indices[label2])\n",
    "        x2 = x[idx2]\n",
    "\n",
    "        pairs += [[x1, x2]]\n",
    "        labels += [0]\n",
    "\n",
    "    return np.array(pairs), np.array(labels).astype(\"float32\")\n",
    "\n",
    "\n",
    "# train pairs\n",
    "pairs_train, labels_train = make_pairs(x_train, y_train)\n",
    "\n",
    "# validation pairs\n",
    "pairs_val, labels_val = make_pairs(x_val, y_val)\n",
    "\n",
    "# test pairs\n",
    "pairs_test, labels_test = make_pairs(x_test, y_test)"
   ]
  },
  {
   "cell_type": "code",
   "execution_count": 323,
   "metadata": {},
   "outputs": [],
   "source": [
    "#seperating the pairs so they can be fed seperatly to the two CNNs \n",
    "x_train_1 = pairs_train[:, 0]  \n",
    "x_train_2 = pairs_train[:, 1]\n",
    "\n",
    "\n",
    "x_val_1 = pairs_val[:, 0] \n",
    "x_val_2 = pairs_val[:, 1]\n",
    "\n",
    "\n",
    "x_test_1 = pairs_test[:, 0]  \n",
    "x_test_2 = pairs_test[:, 1]"
   ]
  },
  {
   "cell_type": "code",
   "execution_count": 330,
   "metadata": {},
   "outputs": [],
   "source": [
    "def euclidean_distance(vects):\n",
    "    \n",
    "    x, y = vects\n",
    "    sum_square = tf.math.reduce_sum(tf.math.square(x - y), axis=1, keepdims=True)\n",
    "    return tf.math.sqrt(tf.math.maximum(sum_square, tf.keras.backend.epsilon()))\n",
    "\n",
    "#load VGG16 weights and freeze layers. \n",
    "\n",
    "vgg = VGG16(weights=\"imagenet\", include_top=False,\n",
    "    input_tensor=Input(shape=(224, 224, 3)))\n",
    "\n",
    "vgg.trainable = False\n",
    "\n",
    "\n",
    "# New model on top (3 channels)\n",
    "input = keras.Input(shape=(224, 224, 3))\n",
    "\n",
    "x = input\n",
    "\n",
    "x = vgg(x, training=False)\n",
    "x = tf.keras.layers.BatchNormalization()(input)\n",
    "\n",
    "\n",
    "x = layers.Conv2D(8, (3, 3), activation=\"relu\")(x)\n",
    "x = layers.MaxPooling2D(pool_size=(2, 2))(x)\n",
    "x = keras.layers.Dropout(0.2)(x) \n",
    "\n",
    "x = layers.Conv2D(32, (3, 3), activation=\"relu\")(x)\n",
    "x = layers.MaxPooling2D(pool_size=(2, 2))(x)\n",
    "x = keras.layers.Dropout(0.3)(x) \n",
    "\n",
    "x = layers.Flatten()(x)\n",
    "x = tf.keras.layers.BatchNormalization()(x)\n",
    "x = layers.Dense(10, activation=\"relu\")(x)\n",
    "\n",
    "#input for two images\n",
    "embedding_network = keras.Model(input, x)\n",
    "image_1 = layers.Input((224, 224, 3))\n",
    "image_2 = layers.Input((224, 224, 3))\n",
    "\n",
    "#two CNN's created\n",
    "CNN_1 = embedding_network(image_1)\n",
    "CNN_2 = embedding_network(image_2)\n",
    "\n",
    "\n",
    "CNN_merge = layers.Lambda(euclidean_distance)([CNN_1, CNN_2])\n",
    "normalization = tf.keras.layers.BatchNormalization()(CNN_merge)\n",
    "output_layer = layers.Dense(1, activation=\"sigmoid\")(normalization)\n",
    "siamese = keras.Model(inputs=[image_1, image_2], outputs=output_layer)"
   ]
  },
  {
   "cell_type": "code",
   "execution_count": 325,
   "metadata": {},
   "outputs": [],
   "source": [
    "#contrastive loss \n",
    "def loss(margin=1):\n",
    " \n",
    "\n",
    "    def contrastive_loss(y_true, y_pred):\n",
    "  \n",
    "        square_pred = tf.math.square(y_pred)\n",
    "        margin_square = tf.math.square(tf.math.maximum(margin - (y_pred), 0))\n",
    "        return tf.math.reduce_mean(\n",
    "            (1 - y_true) * square_pred + (y_true) * margin_square\n",
    "        )\n",
    "\n",
    "    return contrastive_loss"
   ]
  },
  {
   "cell_type": "code",
   "execution_count": 331,
   "metadata": {
    "scrolled": true
   },
   "outputs": [
    {
     "name": "stdout",
     "output_type": "stream",
     "text": [
      "Model: \"model_27\"\n",
      "__________________________________________________________________________________________________\n",
      "Layer (type)                    Output Shape         Param #     Connected to                     \n",
      "==================================================================================================\n",
      "input_49 (InputLayer)           [(None, 224, 224, 3) 0                                            \n",
      "__________________________________________________________________________________________________\n",
      "input_50 (InputLayer)           [(None, 224, 224, 3) 0                                            \n",
      "__________________________________________________________________________________________________\n",
      "model_26 (Functional)           (None, 10)           1308950     input_49[0][0]                   \n",
      "                                                                 input_50[0][0]                   \n",
      "__________________________________________________________________________________________________\n",
      "lambda_12 (Lambda)              (None, 1)            0           model_26[0][0]                   \n",
      "                                                                 model_26[1][0]                   \n",
      "__________________________________________________________________________________________________\n",
      "batch_normalization_38 (BatchNo (None, 1)            4           lambda_12[0][0]                  \n",
      "__________________________________________________________________________________________________\n",
      "dense_25 (Dense)                (None, 1)            2           batch_normalization_38[0][0]     \n",
      "==================================================================================================\n",
      "Total params: 1,308,956\n",
      "Trainable params: 1,122,324\n",
      "Non-trainable params: 186,632\n",
      "__________________________________________________________________________________________________\n"
     ]
    }
   ],
   "source": [
    "optimizer = keras.optimizers.Adam(lr=0.001)\n",
    "siamese.compile(loss=loss(margin=margin), optimizer=\"adam\", metrics=[\"accuracy\"])\n",
    "siamese.summary()"
   ]
  },
  {
   "cell_type": "code",
   "execution_count": 327,
   "metadata": {},
   "outputs": [],
   "source": [
    "#make data into 3 color channels\n",
    "\n",
    "x_train_1 = np.repeat(x_train_1[..., np.newaxis], 3, -1)\n",
    "x_train_2 = np.repeat(x_train_2[..., np.newaxis], 3, -1)\n",
    "x_val_1 = np.repeat(x_val_1[..., np.newaxis], 3, -1)\n",
    "x_val_2 = np.repeat(x_val_2[..., np.newaxis], 3, -1)"
   ]
  },
  {
   "cell_type": "code",
   "execution_count": 332,
   "metadata": {},
   "outputs": [
    {
     "name": "stdout",
     "output_type": "stream",
     "text": [
      "Epoch 1/30\n",
      "44/44 [==============================] - 19s 405ms/step - loss: 0.2823 - accuracy: 0.4971 - val_loss: 0.2959 - val_accuracy: 0.5000\n",
      "Epoch 2/30\n",
      "44/44 [==============================] - 18s 410ms/step - loss: 0.2673 - accuracy: 0.5286 - val_loss: 0.2914 - val_accuracy: 0.5000\n",
      "Epoch 3/30\n",
      "44/44 [==============================] - 19s 426ms/step - loss: 0.2570 - accuracy: 0.5543 - val_loss: 0.2809 - val_accuracy: 0.5000\n",
      "Epoch 4/30\n",
      "44/44 [==============================] - 19s 439ms/step - loss: 0.2503 - accuracy: 0.5686 - val_loss: 0.2698 - val_accuracy: 0.5000\n",
      "Epoch 5/30\n",
      "44/44 [==============================] - 19s 429ms/step - loss: 0.2419 - accuracy: 0.6000 - val_loss: 0.2700 - val_accuracy: 0.4467\n",
      "Epoch 6/30\n",
      "44/44 [==============================] - 19s 427ms/step - loss: 0.2355 - accuracy: 0.6057 - val_loss: 0.2543 - val_accuracy: 0.5333\n",
      "Epoch 7/30\n",
      "44/44 [==============================] - 19s 427ms/step - loss: 0.2300 - accuracy: 0.6286 - val_loss: 0.2509 - val_accuracy: 0.5000\n",
      "Epoch 8/30\n",
      "44/44 [==============================] - 19s 426ms/step - loss: 0.2155 - accuracy: 0.6743 - val_loss: 0.2367 - val_accuracy: 0.5800\n",
      "Epoch 9/30\n",
      "44/44 [==============================] - 18s 420ms/step - loss: 0.2080 - accuracy: 0.6929 - val_loss: 0.2494 - val_accuracy: 0.5667\n",
      "Epoch 10/30\n",
      "44/44 [==============================] - 18s 419ms/step - loss: 0.1911 - accuracy: 0.7257 - val_loss: 0.2626 - val_accuracy: 0.5600\n",
      "Epoch 11/30\n",
      "44/44 [==============================] - 19s 425ms/step - loss: 0.1801 - accuracy: 0.7571 - val_loss: 0.2387 - val_accuracy: 0.5667\n",
      "Epoch 12/30\n",
      "44/44 [==============================] - 19s 439ms/step - loss: 0.1689 - accuracy: 0.8043 - val_loss: 0.2175 - val_accuracy: 0.6467\n",
      "Epoch 13/30\n",
      "44/44 [==============================] - 19s 442ms/step - loss: 0.1632 - accuracy: 0.8000 - val_loss: 0.2382 - val_accuracy: 0.6133\n",
      "Epoch 14/30\n",
      "44/44 [==============================] - 19s 439ms/step - loss: 0.1476 - accuracy: 0.8443 - val_loss: 0.2290 - val_accuracy: 0.6000\n",
      "Epoch 15/30\n",
      "44/44 [==============================] - 19s 431ms/step - loss: 0.1382 - accuracy: 0.8486 - val_loss: 0.2445 - val_accuracy: 0.5667\n",
      "Epoch 16/30\n",
      "44/44 [==============================] - 19s 424ms/step - loss: 0.1282 - accuracy: 0.8500 - val_loss: 0.2400 - val_accuracy: 0.6000\n",
      "Epoch 17/30\n",
      "44/44 [==============================] - 18s 417ms/step - loss: 0.1136 - accuracy: 0.8829 - val_loss: 0.2524 - val_accuracy: 0.5867\n",
      "Epoch 18/30\n",
      "44/44 [==============================] - 19s 422ms/step - loss: 0.1089 - accuracy: 0.8814 - val_loss: 0.2404 - val_accuracy: 0.6133\n",
      "Epoch 19/30\n",
      "44/44 [==============================] - 19s 428ms/step - loss: 0.0951 - accuracy: 0.9171 - val_loss: 0.2520 - val_accuracy: 0.5867\n",
      "Epoch 20/30\n",
      "44/44 [==============================] - 18s 420ms/step - loss: 0.0845 - accuracy: 0.9314 - val_loss: 0.2270 - val_accuracy: 0.6000\n",
      "Epoch 21/30\n",
      "44/44 [==============================] - 19s 425ms/step - loss: 0.0800 - accuracy: 0.9257 - val_loss: 0.2451 - val_accuracy: 0.6333\n",
      "Epoch 22/30\n",
      "44/44 [==============================] - 19s 423ms/step - loss: 0.0858 - accuracy: 0.9186 - val_loss: 0.2500 - val_accuracy: 0.6000\n",
      "Epoch 23/30\n",
      "44/44 [==============================] - 19s 424ms/step - loss: 0.0652 - accuracy: 0.9557 - val_loss: 0.2195 - val_accuracy: 0.6067\n",
      "Epoch 24/30\n",
      "44/44 [==============================] - 19s 427ms/step - loss: 0.0564 - accuracy: 0.9671 - val_loss: 0.2389 - val_accuracy: 0.6267\n",
      "Epoch 25/30\n",
      "44/44 [==============================] - 19s 421ms/step - loss: 0.0647 - accuracy: 0.9414 - val_loss: 0.2117 - val_accuracy: 0.6733\n",
      "Epoch 26/30\n",
      "44/44 [==============================] - 19s 422ms/step - loss: 0.0485 - accuracy: 0.9671 - val_loss: 0.2279 - val_accuracy: 0.6333\n",
      "Epoch 27/30\n",
      "44/44 [==============================] - 19s 423ms/step - loss: 0.0521 - accuracy: 0.9586 - val_loss: 0.2368 - val_accuracy: 0.6333\n",
      "Epoch 28/30\n",
      "44/44 [==============================] - 18s 420ms/step - loss: 0.0460 - accuracy: 0.9629 - val_loss: 0.2275 - val_accuracy: 0.6333\n",
      "Epoch 29/30\n",
      "44/44 [==============================] - 19s 436ms/step - loss: 0.0443 - accuracy: 0.9657 - val_loss: 0.2409 - val_accuracy: 0.6200\n",
      "Epoch 30/30\n",
      "44/44 [==============================] - 20s 444ms/step - loss: 0.0443 - accuracy: 0.9600 - val_loss: 0.2352 - val_accuracy: 0.6333\n"
     ]
    }
   ],
   "source": [
    "history = siamese.fit(\n",
    "    [x_train_1, x_train_2],\n",
    "    labels_train,\n",
    "    validation_data=([x_val_1, x_val_2], labels_val),\n",
    "    batch_size=batch_size,\n",
    "    epochs=epochs,\n",
    ")"
   ]
  },
  {
   "cell_type": "code",
   "execution_count": 334,
   "metadata": {},
   "outputs": [],
   "source": [
    "#add three color channel to test data\n",
    "x_test_1 = np.repeat(x_test_1[..., np.newaxis], 3, -1)\n",
    "x_test_2 = np.repeat(x_test_2[..., np.newaxis], 3, -1)"
   ]
  },
  {
   "cell_type": "code",
   "execution_count": 335,
   "metadata": {},
   "outputs": [
    {
     "name": "stdout",
     "output_type": "stream",
     "text": [
      "Evaluate on test data\n",
      "10/10 [==============================] - 1s 70ms/step - loss: 0.2358 - accuracy: 0.6800\n",
      "test loss, test acc: [0.2358037382364273, 0.6800000071525574]\n"
     ]
    }
   ],
   "source": [
    "print(\"Evaluate on test data\")\n",
    "results = siamese.evaluate([x_test_1, x_test_2], labels_test, batch_size=16)\n",
    "print(\"test loss, test acc:\", results)"
   ]
  },
  {
   "cell_type": "code",
   "execution_count": 336,
   "metadata": {},
   "outputs": [
    {
     "data": {
      "image/png": "[encoded data removed]",
      "text/plain": [
       "<Figure size 432x288 with 1 Axes>"
      ]
     },
     "metadata": {
      "needs_background": "light"
     },
     "output_type": "display_data"
    },
    {
     "data": {
      "image/png": "[encoded data removed]",
      "text/plain": [
       "<Figure size 432x288 with 1 Axes>"
      ]
     },
     "metadata": {
      "needs_background": "light"
     },
     "output_type": "display_data"
    }
   ],
   "source": [
    "def plt_metric(history, metric, title, has_valid=True):\n",
    "  \n",
    "    plt.plot(history[metric])\n",
    "    if has_valid:\n",
    "        plt.plot(history[\"val_\" + metric])\n",
    "        plt.legend([\"train\", \"validation\"], loc=\"upper left\")\n",
    "    plt.title(title)\n",
    "    plt.ylabel(metric)\n",
    "    plt.xlabel(\"epoch\")\n",
    "    plt.show()\n",
    "\n",
    "\n",
    "# Plot the accuracy\n",
    "plt_metric(history=history.history, metric=\"accuracy\", title=\"Model accuracy\")\n",
    "\n",
    "# Plot the constrastive loss\n",
    "plt_metric(history=history.history, metric=\"loss\", title=\"Contrastive Loss\")"
   ]
  }
 ],
 "metadata": {
  "kernelspec": {
   "display_name": "Python 3 (ipykernel)",
   "language": "python",
   "name": "python3"
  },
  "language_info": {
   "codemirror_mode": {
    "name": "ipython",
    "version": 3
   },
   "file_extension": ".py",
   "mimetype": "text/x-python",
   "name": "python",
   "nbconvert_exporter": "python",
   "pygments_lexer": "ipython3",
   "version": "3.9.7"
  }
 },
 "nbformat": 4,
 "nbformat_minor": 4
}
